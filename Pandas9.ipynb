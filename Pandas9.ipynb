{
 "cells": [
  {
   "cell_type": "code",
   "execution_count": 2,
   "id": "d99c726d-7122-4db0-865b-8517a2517d80",
   "metadata": {},
   "outputs": [],
   "source": [
    "import pandas as pd"
   ]
  },
  {
   "cell_type": "code",
   "execution_count": 3,
   "id": "5e0b0c8b-6283-4fc4-ae13-aeed6ab9af4d",
   "metadata": {},
   "outputs": [
    {
     "name": "stdout",
     "output_type": "stream",
     "text": [
      "   RollNo  Maths  Physics\n",
      "0       1     64       43\n",
      "1       2     52       95\n",
      "2       3     84       65\n",
      "3       4     46       76\n",
      "4       5     61       38\n",
      "   RollNo  Maths  Physics\n",
      "0       6     74       49\n",
      "1       7     63       65\n",
      "2       8     41       53\n",
      "3       9     86       26\n",
      "4      10     50       98\n"
     ]
    }
   ],
   "source": [
    "df1 = pd.DataFrame({'RollNo':[1,2,3,4,5], 'Maths':[64,52,84,46,61], 'Physics':[43,95,65,76,38]})\n",
    "df2 = pd.DataFrame({'RollNo':[6,7,8,9,10], 'Maths':[74,63,41,86,50], 'Physics':[49,65,53,26,98]})\n",
    "print(df1)\n",
    "print(df2)"
   ]
  },
  {
   "cell_type": "code",
   "execution_count": 4,
   "id": "ce69d104-456c-4600-a1b9-72806732a6ef",
   "metadata": {},
   "outputs": [],
   "source": [
    "df_combined = pd.concat([df1, df2])"
   ]
  },
  {
   "cell_type": "code",
   "execution_count": 5,
   "id": "b2884e9e-f3be-4842-8f07-1ee61d21fa95",
   "metadata": {},
   "outputs": [
    {
     "data": {
      "text/html": [
       "<div>\n",
       "<style scoped>\n",
       "    .dataframe tbody tr th:only-of-type {\n",
       "        vertical-align: middle;\n",
       "    }\n",
       "\n",
       "    .dataframe tbody tr th {\n",
       "        vertical-align: top;\n",
       "    }\n",
       "\n",
       "    .dataframe thead th {\n",
       "        text-align: right;\n",
       "    }\n",
       "</style>\n",
       "<table border=\"1\" class=\"dataframe\">\n",
       "  <thead>\n",
       "    <tr style=\"text-align: right;\">\n",
       "      <th></th>\n",
       "      <th>RollNo</th>\n",
       "      <th>Maths</th>\n",
       "      <th>Physics</th>\n",
       "    </tr>\n",
       "  </thead>\n",
       "  <tbody>\n",
       "    <tr>\n",
       "      <th>0</th>\n",
       "      <td>1</td>\n",
       "      <td>64</td>\n",
       "      <td>43</td>\n",
       "    </tr>\n",
       "    <tr>\n",
       "      <th>1</th>\n",
       "      <td>2</td>\n",
       "      <td>52</td>\n",
       "      <td>95</td>\n",
       "    </tr>\n",
       "    <tr>\n",
       "      <th>2</th>\n",
       "      <td>3</td>\n",
       "      <td>84</td>\n",
       "      <td>65</td>\n",
       "    </tr>\n",
       "    <tr>\n",
       "      <th>3</th>\n",
       "      <td>4</td>\n",
       "      <td>46</td>\n",
       "      <td>76</td>\n",
       "    </tr>\n",
       "    <tr>\n",
       "      <th>4</th>\n",
       "      <td>5</td>\n",
       "      <td>61</td>\n",
       "      <td>38</td>\n",
       "    </tr>\n",
       "    <tr>\n",
       "      <th>0</th>\n",
       "      <td>6</td>\n",
       "      <td>74</td>\n",
       "      <td>49</td>\n",
       "    </tr>\n",
       "    <tr>\n",
       "      <th>1</th>\n",
       "      <td>7</td>\n",
       "      <td>63</td>\n",
       "      <td>65</td>\n",
       "    </tr>\n",
       "    <tr>\n",
       "      <th>2</th>\n",
       "      <td>8</td>\n",
       "      <td>41</td>\n",
       "      <td>53</td>\n",
       "    </tr>\n",
       "    <tr>\n",
       "      <th>3</th>\n",
       "      <td>9</td>\n",
       "      <td>86</td>\n",
       "      <td>26</td>\n",
       "    </tr>\n",
       "    <tr>\n",
       "      <th>4</th>\n",
       "      <td>10</td>\n",
       "      <td>50</td>\n",
       "      <td>98</td>\n",
       "    </tr>\n",
       "  </tbody>\n",
       "</table>\n",
       "</div>"
      ],
      "text/plain": [
       "   RollNo  Maths  Physics\n",
       "0       1     64       43\n",
       "1       2     52       95\n",
       "2       3     84       65\n",
       "3       4     46       76\n",
       "4       5     61       38\n",
       "0       6     74       49\n",
       "1       7     63       65\n",
       "2       8     41       53\n",
       "3       9     86       26\n",
       "4      10     50       98"
      ]
     },
     "execution_count": 5,
     "metadata": {},
     "output_type": "execute_result"
    }
   ],
   "source": [
    "df_combined"
   ]
  },
  {
   "cell_type": "code",
   "execution_count": 6,
   "id": "10956a8b-2007-42d4-b5f1-90512255e567",
   "metadata": {},
   "outputs": [],
   "source": [
    "data = {\n",
    "    \"Branch\": [\"CSE\", \"IT\", \"CSE\", \"ECE\",\"CSE\", \"IT\", \"CSE\", \"ECE\",\"IT\", \"CSE\", \"ECE\"],\n",
    "    \"Subject\": [\"ADA\", \"DBMS\", \"OOP\", \"CN\", \"DBMS\", \"OOP\", \"CN\", \"DBMS\", \"OOP\", \"CN\", \"CN\"],\n",
    "    \"Marks\": [85, 90, 78, 88, 58, 69, 86, 74, 66, 38, 91] \n",
    "}\n",
    "df = pd.DataFrame(data)"
   ]
  },
  {
   "cell_type": "code",
   "execution_count": 7,
   "id": "c2944206",
   "metadata": {},
   "outputs": [
    {
     "name": "stdout",
     "output_type": "stream",
     "text": [
      "            Marks\n",
      "Branch           \n",
      "CSE     69.000000\n",
      "ECE     84.333333\n",
      "IT      75.000000\n"
     ]
    }
   ],
   "source": [
    "pivot = df.pivot_table(\n",
    "    index=\"Branch\",\n",
    "    values=\"Marks\",  # Use only numeric columns for aggregation\n",
    "    aggfunc=\"mean\",  # Or another aggregation function\n",
    ")\n",
    "print(pivot)"
   ]
  },
  {
   "cell_type": "code",
   "execution_count": 9,
   "id": "0fc697de",
   "metadata": {},
   "outputs": [
    {
     "name": "stdout",
     "output_type": "stream",
     "text": [
      "        Marks\n",
      "Branch       \n",
      "CSE       345\n",
      "ECE       253\n",
      "IT        225\n"
     ]
    }
   ],
   "source": [
    "pivot = df.pivot_table(\n",
    "    index=\"Branch\",\n",
    "    values=\"Marks\",  # Use only numeric columns for aggregation\n",
    "    aggfunc=\"sum\",  # Or another aggregation function\n",
    ")\n",
    "print(pivot)\n"
   ]
  },
  {
   "cell_type": "code",
   "execution_count": 10,
   "id": "4209b777",
   "metadata": {},
   "outputs": [
    {
     "name": "stdout",
     "output_type": "stream",
     "text": [
      "        Marks\n",
      "Branch       \n",
      "CSE         5\n",
      "ECE         3\n",
      "IT          3\n"
     ]
    }
   ],
   "source": [
    "pivot = df.pivot_table(\n",
    "    index=\"Branch\",\n",
    "    values=\"Marks\",  # Use only numeric columns for aggregation\n",
    "    aggfunc=\"count\",  # Or another aggregation function\n",
    ")\n",
    "print(pivot)"
   ]
  },
  {
   "cell_type": "code",
   "execution_count": null,
   "id": "ecc75000",
   "metadata": {},
   "outputs": [],
   "source": [
    "pivot = df.pivot_table(\n",
    "    index=\"Branch\",\n",
    "    values=\"Marks\",  # Use only numeric columns for aggregation\n",
    "    aggfunc=\"max\",  # Or another aggregation function\n",
    ")\n",
    "print(pivot)"
   ]
  }
 ],
 "metadata": {
  "kernelspec": {
   "display_name": "Python 3",
   "language": "python",
   "name": "python3"
  },
  "language_info": {
   "codemirror_mode": {
    "name": "ipython",
    "version": 3
   },
   "file_extension": ".py",
   "mimetype": "text/x-python",
   "name": "python",
   "nbconvert_exporter": "python",
   "pygments_lexer": "ipython3",
   "version": "3.12.4"
  }
 },
 "nbformat": 4,
 "nbformat_minor": 5
}

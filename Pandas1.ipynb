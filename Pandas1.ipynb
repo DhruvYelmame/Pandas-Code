{
 "cells": [
  {
   "cell_type": "code",
   "execution_count": 7,
   "id": "d88a4cb4-2680-41b2-9524-8b591a0df774",
   "metadata": {},
   "outputs": [],
   "source": [
    "import pandas as pd"
   ]
  },
  {
   "cell_type": "code",
   "execution_count": 8,
   "id": "4e8059e9-c2aa-497e-819a-84fe18be55fd",
   "metadata": {},
   "outputs": [
    {
     "data": {
      "text/plain": [
       "'2.2.2'"
      ]
     },
     "execution_count": 8,
     "metadata": {},
     "output_type": "execute_result"
    }
   ],
   "source": [
    "pd.__version__"
   ]
  },
  {
   "cell_type": "code",
   "execution_count": 9,
   "id": "4baeb88d-bd9a-4570-a53f-a1479a3a5c1a",
   "metadata": {},
   "outputs": [
    {
     "name": "stdout",
     "output_type": "stream",
     "text": [
      "[1, 2, 3, 4, 5]\n"
     ]
    }
   ],
   "source": [
    "lst = [1,2,3,4,5]\n",
    "print(lst)"
   ]
  },
  {
   "cell_type": "code",
   "execution_count": 10,
   "id": "0b1bc1ba-559a-432b-9ccf-5118f15acc58",
   "metadata": {},
   "outputs": [
    {
     "name": "stdout",
     "output_type": "stream",
     "text": [
      "0    1\n",
      "1    2\n",
      "2    3\n",
      "3    4\n",
      "4    5\n",
      "dtype: int64\n",
      "<class 'pandas.core.series.Series'>\n"
     ]
    }
   ],
   "source": [
    "series = pd.Series(lst)\n",
    "print(series)\n",
    "print(type(series))"
   ]
  },
  {
   "cell_type": "code",
   "execution_count": 11,
   "id": "f474c614-f90a-4d99-943b-29c227fa464c",
   "metadata": {},
   "outputs": [
    {
     "data": {
      "text/plain": [
       "Series([], dtype: object)"
      ]
     },
     "execution_count": 11,
     "metadata": {},
     "output_type": "execute_result"
    }
   ],
   "source": [
    "empty = pd.Series([])\n",
    "empty"
   ]
  },
  {
   "cell_type": "code",
   "execution_count": 12,
   "id": "38a4c314-4af5-4526-ba22-ebe4e9d1c24a",
   "metadata": {},
   "outputs": [
    {
     "data": {
      "text/plain": [
       "10    p\n",
       "20    q\n",
       "30    r\n",
       "40    s\n",
       "50    t\n",
       "dtype: object"
      ]
     },
     "execution_count": 12,
     "metadata": {},
     "output_type": "execute_result"
    }
   ],
   "source": [
    "a = pd.Series(['p','q','r','s','t'], index = [10,20,30,40,50])\n",
    "a"
   ]
  },
  {
   "cell_type": "code",
   "execution_count": 13,
   "id": "ed655b28-db0f-4664-905d-794605838da6",
   "metadata": {},
   "outputs": [
    {
     "data": {
      "text/plain": [
       "10    p\n",
       "20    q\n",
       "30    r\n",
       "40    s\n",
       "50    t\n",
       "Name: alphabetical, dtype: object"
      ]
     },
     "execution_count": 13,
     "metadata": {},
     "output_type": "execute_result"
    }
   ],
   "source": [
    "b = pd.Series(['p','q','r','s','t'], index = [10,20,30,40,50], name='alphabetical')\n",
    "b"
   ]
  },
  {
   "cell_type": "code",
   "execution_count": 14,
   "id": "99bfcf69-428b-42e6-8ee2-41657fd7f6c8",
   "metadata": {},
   "outputs": [
    {
     "data": {
      "text/plain": [
       "0    0.5\n",
       "dtype: float64"
      ]
     },
     "execution_count": 14,
     "metadata": {},
     "output_type": "execute_result"
    }
   ],
   "source": [
    "scaler_series = pd.Series(0.5)\n",
    "scaler_series\n"
   ]
  },
  {
   "cell_type": "code",
   "execution_count": 15,
   "id": "bf9547a6-4c38-4c65-8b4c-75b8b48727f3",
   "metadata": {},
   "outputs": [
    {
     "data": {
      "text/plain": [
       "1    0.5\n",
       "2    0.5\n",
       "3    0.5\n",
       "dtype: float64"
      ]
     },
     "execution_count": 15,
     "metadata": {},
     "output_type": "execute_result"
    }
   ],
   "source": [
    "scaler_series = pd.Series(0.5, index=[1,2,3]) \n",
    "scaler_series\n"
   ]
  },
  {
   "cell_type": "code",
   "execution_count": 16,
   "id": "bd5c6fcb-6ea2-4c15-a1d8-bc55023d510c",
   "metadata": {},
   "outputs": [
    {
     "data": {
      "text/plain": [
       "p    1\n",
       "q    2\n",
       "r    3\n",
       "s    4\n",
       "dtype: int64"
      ]
     },
     "execution_count": 16,
     "metadata": {},
     "output_type": "execute_result"
    }
   ],
   "source": [
    "dict_series = pd.Series({'p':1, 'q':2, 'r':3, 's':4})\n",
    "dict_series"
   ]
  },
  {
   "cell_type": "code",
   "execution_count": 17,
   "id": "37e7031b-41c1-4e51-8393-8c8e691a2c1e",
   "metadata": {},
   "outputs": [
    {
     "name": "stderr",
     "output_type": "stream",
     "text": [
      "C:\\Users\\Lenovo\\AppData\\Local\\Temp\\ipykernel_17668\\1555523956.py:1: FutureWarning: Series.__getitem__ treating keys as positions is deprecated. In a future version, integer keys will always be treated as labels (consistent with DataFrame behavior). To access a value by position, use `ser.iloc[pos]`\n",
      "  dict_series[0]\n"
     ]
    },
    {
     "data": {
      "text/plain": [
       "np.int64(1)"
      ]
     },
     "execution_count": 17,
     "metadata": {},
     "output_type": "execute_result"
    }
   ],
   "source": [
    "dict_series[0]\n",
    "\n"
   ]
  },
  {
   "cell_type": "code",
   "execution_count": 18,
   "id": "51c988a5-1849-414c-adf7-069c56db57a0",
   "metadata": {},
   "outputs": [
    {
     "data": {
      "text/plain": [
       "p    1\n",
       "q    2\n",
       "r    3\n",
       "dtype: int64"
      ]
     },
     "execution_count": 18,
     "metadata": {},
     "output_type": "execute_result"
    }
   ],
   "source": [
    "dict_series[0:3]"
   ]
  },
  {
   "cell_type": "code",
   "execution_count": 19,
   "id": "63c548be-e340-4ae6-b754-545fdc28bdd7",
   "metadata": {},
   "outputs": [
    {
     "data": {
      "text/plain": [
       "4"
      ]
     },
     "execution_count": 19,
     "metadata": {},
     "output_type": "execute_result"
    }
   ],
   "source": [
    "max(dict_series)"
   ]
  },
  {
   "cell_type": "code",
   "execution_count": 20,
   "id": "b003b787-f841-4158-8a91-073ee5053b0b",
   "metadata": {},
   "outputs": [
    {
     "data": {
      "text/plain": [
       "p    [1, 2, 3]\n",
       "q    [6, 8, 3]\n",
       "r    [2, 9, 1]\n",
       "s    [6, 8, 5]\n",
       "dtype: object"
      ]
     },
     "execution_count": 20,
     "metadata": {},
     "output_type": "execute_result"
    }
   ],
   "source": [
    "dict_series = pd.Series({'p':[1,2,3], 'q':[6,8,3], 'r':[2,9,1], 's':[6,8,5]})\n",
    "dict_series"
   ]
  },
  {
   "cell_type": "code",
   "execution_count": 21,
   "id": "d88cfacd-c0b0-49cf-85fe-2902d42f96f2",
   "metadata": {},
   "outputs": [
    {
     "data": {
      "text/plain": [
       "[6, 8, 5]"
      ]
     },
     "execution_count": 21,
     "metadata": {},
     "output_type": "execute_result"
    }
   ],
   "source": [
    "max(dict_series)"
   ]
  },
  {
   "cell_type": "code",
   "execution_count": 22,
   "id": "6294875c-d2f6-4bfb-ad27-7b82366755bd",
   "metadata": {},
   "outputs": [
    {
     "data": {
      "text/plain": [
       "[1, 2, 3]"
      ]
     },
     "execution_count": 22,
     "metadata": {},
     "output_type": "execute_result"
    }
   ],
   "source": [
    "min(dict_series)"
   ]
  },
  {
   "cell_type": "code",
   "execution_count": 23,
   "id": "d453e9ae-d6a0-4691-bafb-7f6625f834db",
   "metadata": {},
   "outputs": [
    {
     "data": {
      "text/plain": [
       "[1, 2, 3, 6, 8, 3, 2, 9, 1, 6, 8, 5]"
      ]
     },
     "execution_count": 23,
     "metadata": {},
     "output_type": "execute_result"
    }
   ],
   "source": [
    "dict_series.sum()"
   ]
  }
 ],
 "metadata": {
  "kernelspec": {
   "display_name": "Python 3",
   "language": "python",
   "name": "python3"
  },
  "language_info": {
   "codemirror_mode": {
    "name": "ipython",
    "version": 3
   },
   "file_extension": ".py",
   "mimetype": "text/x-python",
   "name": "python",
   "nbconvert_exporter": "python",
   "pygments_lexer": "ipython3",
   "version": "3.12.4"
  }
 },
 "nbformat": 4,
 "nbformat_minor": 5
}

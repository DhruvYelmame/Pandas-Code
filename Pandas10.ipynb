{
 "cells": [
  {
   "cell_type": "code",
   "execution_count": 1,
   "id": "5fe9dd57-5fc3-4e22-b653-44039d2634a9",
   "metadata": {},
   "outputs": [],
   "source": [
    "import pandas as pd"
   ]
  },
  {
   "cell_type": "code",
   "execution_count": 16,
   "id": "600c5dc2-e953-49a2-a6be-5fdc86bd7254",
   "metadata": {},
   "outputs": [],
   "source": [
    "data = {\n",
    "    \"Branch\": [\"CSE\", \"IT\", \"CSE\", \"ECE\",\"CSE\", \"IT\", \"CSE\", \"ECE\",\"IT\", \"CSE\", \"ECE\"],\n",
    "    \"Subject\": [\"ADA\", \"DBMS\", \"OOP\", \"CN\", \"DBMS\", \"OOP\", \"CN\", \"DBMS\", \"OOP\", \"CN\", \"CN\"],\n",
    "    \"Marks\": [85, 90, 78, 88, 58, 69, 86, 74, 66, 38, 91] \n",
    "}\n",
    "df = pd.DataFrame(data)"
   ]
  },
  {
   "cell_type": "code",
   "execution_count": 17,
   "id": "c9cd585c-629a-4ffa-9191-f6a86fb9e022",
   "metadata": {},
   "outputs": [
    {
     "name": "stdout",
     "output_type": "stream",
     "text": [
      "            Marks\n",
      "Branch           \n",
      "CSE     69.000000\n",
      "ECE     84.333333\n",
      "IT      75.000000\n"
     ]
    }
   ],
   "source": [
    "pivot = df.pivot_table(\n",
    "    index=\"Branch\",\n",
    "    values=\"Marks\",  # Use only numeric columns for aggregation\n",
    "    aggfunc=\"mean\",  # Or another aggregation function\n",
    ")\n",
    "print(pivot)"
   ]
  },
  {
   "cell_type": "code",
   "execution_count": 20,
   "id": "b9b44f44-d948-4f5d-a8d5-a0a5074fe04f",
   "metadata": {},
   "outputs": [
    {
     "name": "stdout",
     "output_type": "stream",
     "text": [
      "        Marks\n",
      "Branch       \n",
      "CSE       345\n",
      "ECE       253\n",
      "IT        225\n"
     ]
    }
   ],
   "source": [
    "pivot = df.pivot_table(\n",
    "    index=\"Branch\",\n",
    "    values=\"Marks\",  # Use only numeric columns for aggregation\n",
    "    aggfunc=\"sum\",  # Or another aggregation function\n",
    ")\n",
    "print(pivot)"
   ]
  },
  {
   "cell_type": "code",
   "execution_count": 21,
   "id": "305226d5-8af6-46f3-8bd5-97943fde071c",
   "metadata": {},
   "outputs": [
    {
     "name": "stdout",
     "output_type": "stream",
     "text": [
      "        Marks\n",
      "Branch       \n",
      "CSE         5\n",
      "ECE         3\n",
      "IT          3\n"
     ]
    }
   ],
   "source": [
    "pivot = df.pivot_table(\n",
    "    index=\"Branch\",\n",
    "    values=\"Marks\",  # Use only numeric columns for aggregation\n",
    "    aggfunc=\"count\",  # Or another aggregation function\n",
    ")\n",
    "print(pivot)"
   ]
  },
  {
   "cell_type": "code",
   "execution_count": 22,
   "id": "6722c136-e070-4724-89b9-5539546409b9",
   "metadata": {},
   "outputs": [
    {
     "name": "stdout",
     "output_type": "stream",
     "text": [
      "        Marks\n",
      "Branch       \n",
      "CSE        86\n",
      "ECE        91\n",
      "IT         90\n"
     ]
    }
   ],
   "source": [
    "pivot = df.pivot_table(\n",
    "    index=\"Branch\",\n",
    "    values=\"Marks\",  # Use only numeric columns for aggregation\n",
    "    aggfunc=\"max\",  # Or another aggregation function\n",
    ")\n",
    "print(pivot)"
   ]
  },
  {
   "cell_type": "code",
   "execution_count": 25,
   "id": "9b32ed7c-f3de-465f-9d64-823521aa3f02",
   "metadata": {},
   "outputs": [
    {
     "name": "stdout",
     "output_type": "stream",
     "text": [
      "        Marks\n",
      "Branch       \n",
      "CSE        38\n",
      "ECE        74\n",
      "IT         66\n"
     ]
    }
   ],
   "source": [
    "pivot = df.pivot_table(\n",
    "    index=\"Branch\",\n",
    "    values=\"Marks\",  # Use only numeric columns for aggregation\n",
    "    aggfunc=\"min\",  # Or another aggregation function\n",
    ")\n",
    "print(pivot)"
   ]
  },
  {
   "cell_type": "code",
   "execution_count": null,
   "id": "eca2a8bb-a3f6-4098-9d01-cdf5fd8f0fda",
   "metadata": {},
   "outputs": [],
   "source": []
  }
 ],
 "metadata": {
  "kernelspec": {
   "display_name": "Python 3 (ipykernel)",
   "language": "python",
   "name": "python3"
  },
  "language_info": {
   "codemirror_mode": {
    "name": "ipython",
    "version": 3
   },
   "file_extension": ".py",
   "mimetype": "text/x-python",
   "name": "python",
   "nbconvert_exporter": "python",
   "pygments_lexer": "ipython3",
   "version": "3.12.4"
  }
 },
 "nbformat": 4,
 "nbformat_minor": 5
}

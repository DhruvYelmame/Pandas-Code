{
 "cells": [
  {
   "cell_type": "code",
   "execution_count": 10,
   "id": "ded163af-5282-4066-9c62-ac28249d23b4",
   "metadata": {},
   "outputs": [],
   "source": [
    "import pandas as pd"
   ]
  },
  {
   "cell_type": "code",
   "execution_count": 9,
   "id": "409b5296-1e8f-4aaf-8cd4-ffc157fbde79",
   "metadata": {},
   "outputs": [
    {
     "data": {
      "text/html": [
       "<div>\n",
       "<style scoped>\n",
       "    .dataframe tbody tr th:only-of-type {\n",
       "        vertical-align: middle;\n",
       "    }\n",
       "\n",
       "    .dataframe tbody tr th {\n",
       "        vertical-align: top;\n",
       "    }\n",
       "\n",
       "    .dataframe thead th {\n",
       "        text-align: right;\n",
       "    }\n",
       "</style>\n",
       "<table border=\"1\" class=\"dataframe\">\n",
       "  <thead>\n",
       "    <tr style=\"text-align: right;\">\n",
       "      <th></th>\n",
       "      <th>Section</th>\n",
       "      <th>Branch</th>\n",
       "      <th>Physics</th>\n",
       "      <th>Chemistry</th>\n",
       "      <th>Math</th>\n",
       "      <th>Comp</th>\n",
       "      <th>DOB</th>\n",
       "    </tr>\n",
       "    <tr>\n",
       "      <th>RollNo</th>\n",
       "      <th></th>\n",
       "      <th></th>\n",
       "      <th></th>\n",
       "      <th></th>\n",
       "      <th></th>\n",
       "      <th></th>\n",
       "      <th></th>\n",
       "    </tr>\n",
       "  </thead>\n",
       "  <tbody>\n",
       "    <tr>\n",
       "      <th>1</th>\n",
       "      <td>A</td>\n",
       "      <td>Comp</td>\n",
       "      <td>42</td>\n",
       "      <td>68</td>\n",
       "      <td>20</td>\n",
       "      <td>81</td>\n",
       "      <td>01-01-2003</td>\n",
       "    </tr>\n",
       "    <tr>\n",
       "      <th>2</th>\n",
       "      <td>C</td>\n",
       "      <td>Mech</td>\n",
       "      <td>43</td>\n",
       "      <td>69</td>\n",
       "      <td>21</td>\n",
       "      <td>82</td>\n",
       "      <td>02-01-2003</td>\n",
       "    </tr>\n",
       "    <tr>\n",
       "      <th>3</th>\n",
       "      <td>B</td>\n",
       "      <td>IT</td>\n",
       "      <td>44</td>\n",
       "      <td>70</td>\n",
       "      <td>22</td>\n",
       "      <td>83</td>\n",
       "      <td>03-01-2003</td>\n",
       "    </tr>\n",
       "    <tr>\n",
       "      <th>4</th>\n",
       "      <td>D</td>\n",
       "      <td>E&amp;TC</td>\n",
       "      <td>45</td>\n",
       "      <td>71</td>\n",
       "      <td>23</td>\n",
       "      <td>84</td>\n",
       "      <td>04-01-2003</td>\n",
       "    </tr>\n",
       "    <tr>\n",
       "      <th>5</th>\n",
       "      <td>A</td>\n",
       "      <td>Chem</td>\n",
       "      <td>46</td>\n",
       "      <td>72</td>\n",
       "      <td>24</td>\n",
       "      <td>85</td>\n",
       "      <td>05-01-2003</td>\n",
       "    </tr>\n",
       "  </tbody>\n",
       "</table>\n",
       "</div>"
      ],
      "text/plain": [
       "       Section Branch  Physics  Chemistry  Math  Comp         DOB\n",
       "RollNo                                                           \n",
       "1            A   Comp       42         68    20    81  01-01-2003\n",
       "2            C   Mech       43         69    21    82  02-01-2003\n",
       "3            B     IT       44         70    22    83  03-01-2003\n",
       "4            D   E&TC       45         71    23    84  04-01-2003\n",
       "5            A   Chem       46         72    24    85  05-01-2003"
      ]
     },
     "execution_count": 9,
     "metadata": {},
     "output_type": "execute_result"
    }
   ],
   "source": [
    "df = pd.read_csv(r'C:\\Users\\Lenovo\\OneDrive\\Documents\\Sample4.csv',\n",
    "                index_col = ['RollNo'])\n",
    "df.head()"
   ]
  },
  {
   "cell_type": "code",
   "execution_count": 11,
   "id": "900315b6-54ec-4304-a0c2-c9c56200fbf8",
   "metadata": {},
   "outputs": [
    {
     "data": {
      "text/plain": [
       "Section               A\n",
       "Branch             Comp\n",
       "Physics              42\n",
       "Chemistry            68\n",
       "Math                 20\n",
       "Comp                 81\n",
       "DOB          01-01-2003\n",
       "Name: 1, dtype: object"
      ]
     },
     "execution_count": 11,
     "metadata": {},
     "output_type": "execute_result"
    }
   ],
   "source": [
    "df.loc[1]"
   ]
  },
  {
   "cell_type": "code",
   "execution_count": 12,
   "id": "bf774ee4-470c-433c-9695-d214605b7c22",
   "metadata": {},
   "outputs": [
    {
     "data": {
      "text/plain": [
       "Section               A\n",
       "Branch             Chem\n",
       "Physics              46\n",
       "Chemistry            72\n",
       "Math                 24\n",
       "Comp                 85\n",
       "DOB          05-01-2003\n",
       "Name: 5, dtype: object"
      ]
     },
     "execution_count": 12,
     "metadata": {},
     "output_type": "execute_result"
    }
   ],
   "source": [
    "df.loc[5]"
   ]
  },
  {
   "cell_type": "code",
   "execution_count": 13,
   "id": "5bbabdb9-3f35-4283-bf16-25cedc485aaa",
   "metadata": {},
   "outputs": [
    {
     "data": {
      "text/html": [
       "<div>\n",
       "<style scoped>\n",
       "    .dataframe tbody tr th:only-of-type {\n",
       "        vertical-align: middle;\n",
       "    }\n",
       "\n",
       "    .dataframe tbody tr th {\n",
       "        vertical-align: top;\n",
       "    }\n",
       "\n",
       "    .dataframe thead th {\n",
       "        text-align: right;\n",
       "    }\n",
       "</style>\n",
       "<table border=\"1\" class=\"dataframe\">\n",
       "  <thead>\n",
       "    <tr style=\"text-align: right;\">\n",
       "      <th></th>\n",
       "      <th>Section</th>\n",
       "      <th>Branch</th>\n",
       "      <th>Physics</th>\n",
       "      <th>Chemistry</th>\n",
       "      <th>Math</th>\n",
       "      <th>Comp</th>\n",
       "      <th>DOB</th>\n",
       "    </tr>\n",
       "    <tr>\n",
       "      <th>RollNo</th>\n",
       "      <th></th>\n",
       "      <th></th>\n",
       "      <th></th>\n",
       "      <th></th>\n",
       "      <th></th>\n",
       "      <th></th>\n",
       "      <th></th>\n",
       "    </tr>\n",
       "  </thead>\n",
       "  <tbody>\n",
       "    <tr>\n",
       "      <th>5</th>\n",
       "      <td>A</td>\n",
       "      <td>Chem</td>\n",
       "      <td>46</td>\n",
       "      <td>72</td>\n",
       "      <td>24</td>\n",
       "      <td>85</td>\n",
       "      <td>05-01-2003</td>\n",
       "    </tr>\n",
       "    <tr>\n",
       "      <th>6</th>\n",
       "      <td>A</td>\n",
       "      <td>Civil</td>\n",
       "      <td>47</td>\n",
       "      <td>73</td>\n",
       "      <td>25</td>\n",
       "      <td>86</td>\n",
       "      <td>06-01-2003</td>\n",
       "    </tr>\n",
       "    <tr>\n",
       "      <th>7</th>\n",
       "      <td>C</td>\n",
       "      <td>Civil</td>\n",
       "      <td>48</td>\n",
       "      <td>74</td>\n",
       "      <td>26</td>\n",
       "      <td>87</td>\n",
       "      <td>07-01-2003</td>\n",
       "    </tr>\n",
       "    <tr>\n",
       "      <th>8</th>\n",
       "      <td>B</td>\n",
       "      <td>Comp</td>\n",
       "      <td>49</td>\n",
       "      <td>75</td>\n",
       "      <td>27</td>\n",
       "      <td>88</td>\n",
       "      <td>08-01-2003</td>\n",
       "    </tr>\n",
       "  </tbody>\n",
       "</table>\n",
       "</div>"
      ],
      "text/plain": [
       "       Section Branch  Physics  Chemistry  Math  Comp         DOB\n",
       "RollNo                                                           \n",
       "5            A   Chem       46         72    24    85  05-01-2003\n",
       "6            A  Civil       47         73    25    86  06-01-2003\n",
       "7            C  Civil       48         74    26    87  07-01-2003\n",
       "8            B   Comp       49         75    27    88  08-01-2003"
      ]
     },
     "execution_count": 13,
     "metadata": {},
     "output_type": "execute_result"
    }
   ],
   "source": [
    "df.loc[[5,6,7,8]]"
   ]
  },
  {
   "cell_type": "code",
   "execution_count": 14,
   "id": "f7dd9dca-8fa7-43d1-9bb1-b3cf3574ed26",
   "metadata": {},
   "outputs": [
    {
     "data": {
      "text/plain": [
       "np.int64(46)"
      ]
     },
     "execution_count": 14,
     "metadata": {},
     "output_type": "execute_result"
    }
   ],
   "source": [
    "df.loc[5, 'Physics']"
   ]
  },
  {
   "cell_type": "code",
   "execution_count": 15,
   "id": "63d48239-610e-49e2-99f0-6f87b7b2b46b",
   "metadata": {},
   "outputs": [
    {
     "data": {
      "text/plain": [
       "RollNo\n",
       "5     72\n",
       "6     73\n",
       "7     74\n",
       "8     75\n",
       "9     76\n",
       "10    77\n",
       "Name: Chemistry, dtype: int64"
      ]
     },
     "execution_count": 15,
     "metadata": {},
     "output_type": "execute_result"
    }
   ],
   "source": [
    "df.loc[5:10, 'Chemistry']"
   ]
  },
  {
   "cell_type": "code",
   "execution_count": 16,
   "id": "77906b76-daa6-4b99-8b83-a5acc19c35b1",
   "metadata": {},
   "outputs": [
    {
     "data": {
      "text/html": [
       "<div>\n",
       "<style scoped>\n",
       "    .dataframe tbody tr th:only-of-type {\n",
       "        vertical-align: middle;\n",
       "    }\n",
       "\n",
       "    .dataframe tbody tr th {\n",
       "        vertical-align: top;\n",
       "    }\n",
       "\n",
       "    .dataframe thead th {\n",
       "        text-align: right;\n",
       "    }\n",
       "</style>\n",
       "<table border=\"1\" class=\"dataframe\">\n",
       "  <thead>\n",
       "    <tr style=\"text-align: right;\">\n",
       "      <th></th>\n",
       "      <th>Section</th>\n",
       "      <th>Branch</th>\n",
       "      <th>Physics</th>\n",
       "      <th>Chemistry</th>\n",
       "      <th>Math</th>\n",
       "      <th>Comp</th>\n",
       "      <th>DOB</th>\n",
       "    </tr>\n",
       "    <tr>\n",
       "      <th>RollNo</th>\n",
       "      <th></th>\n",
       "      <th></th>\n",
       "      <th></th>\n",
       "      <th></th>\n",
       "      <th></th>\n",
       "      <th></th>\n",
       "      <th></th>\n",
       "    </tr>\n",
       "  </thead>\n",
       "  <tbody>\n",
       "    <tr>\n",
       "      <th>10</th>\n",
       "      <td>C</td>\n",
       "      <td>Civil</td>\n",
       "      <td>51</td>\n",
       "      <td>77</td>\n",
       "      <td>29</td>\n",
       "      <td>90</td>\n",
       "      <td>10-01-2003</td>\n",
       "    </tr>\n",
       "    <tr>\n",
       "      <th>11</th>\n",
       "      <td>D</td>\n",
       "      <td>IT</td>\n",
       "      <td>52</td>\n",
       "      <td>78</td>\n",
       "      <td>30</td>\n",
       "      <td>91</td>\n",
       "      <td>11-01-2003</td>\n",
       "    </tr>\n",
       "    <tr>\n",
       "      <th>12</th>\n",
       "      <td>A</td>\n",
       "      <td>A&amp;R</td>\n",
       "      <td>53</td>\n",
       "      <td>79</td>\n",
       "      <td>31</td>\n",
       "      <td>92</td>\n",
       "      <td>12-01-2003</td>\n",
       "    </tr>\n",
       "    <tr>\n",
       "      <th>13</th>\n",
       "      <td>B</td>\n",
       "      <td>Chem</td>\n",
       "      <td>54</td>\n",
       "      <td>80</td>\n",
       "      <td>32</td>\n",
       "      <td>93</td>\n",
       "      <td>13-01-2003</td>\n",
       "    </tr>\n",
       "    <tr>\n",
       "      <th>14</th>\n",
       "      <td>C</td>\n",
       "      <td>E&amp;TC</td>\n",
       "      <td>55</td>\n",
       "      <td>81</td>\n",
       "      <td>33</td>\n",
       "      <td>94</td>\n",
       "      <td>14-01-2003</td>\n",
       "    </tr>\n",
       "    <tr>\n",
       "      <th>15</th>\n",
       "      <td>D</td>\n",
       "      <td>E&amp;C</td>\n",
       "      <td>56</td>\n",
       "      <td>82</td>\n",
       "      <td>34</td>\n",
       "      <td>95</td>\n",
       "      <td>15-01-2003</td>\n",
       "    </tr>\n",
       "  </tbody>\n",
       "</table>\n",
       "</div>"
      ],
      "text/plain": [
       "       Section Branch  Physics  Chemistry  Math  Comp         DOB\n",
       "RollNo                                                           \n",
       "10           C  Civil       51         77    29    90  10-01-2003\n",
       "11           D     IT       52         78    30    91  11-01-2003\n",
       "12           A    A&R       53         79    31    92  12-01-2003\n",
       "13           B   Chem       54         80    32    93  13-01-2003\n",
       "14           C   E&TC       55         81    33    94  14-01-2003\n",
       "15           D    E&C       56         82    34    95  15-01-2003"
      ]
     },
     "execution_count": 16,
     "metadata": {},
     "output_type": "execute_result"
    }
   ],
   "source": [
    "df.loc[df['Physics']>50]"
   ]
  },
  {
   "cell_type": "code",
   "execution_count": 17,
   "id": "dc324db8-80d9-41a0-85ee-a32689a02f0c",
   "metadata": {},
   "outputs": [
    {
     "data": {
      "text/html": [
       "<div>\n",
       "<style scoped>\n",
       "    .dataframe tbody tr th:only-of-type {\n",
       "        vertical-align: middle;\n",
       "    }\n",
       "\n",
       "    .dataframe tbody tr th {\n",
       "        vertical-align: top;\n",
       "    }\n",
       "\n",
       "    .dataframe thead th {\n",
       "        text-align: right;\n",
       "    }\n",
       "</style>\n",
       "<table border=\"1\" class=\"dataframe\">\n",
       "  <thead>\n",
       "    <tr style=\"text-align: right;\">\n",
       "      <th></th>\n",
       "      <th>Math</th>\n",
       "    </tr>\n",
       "    <tr>\n",
       "      <th>RollNo</th>\n",
       "      <th></th>\n",
       "    </tr>\n",
       "  </thead>\n",
       "  <tbody>\n",
       "    <tr>\n",
       "      <th>10</th>\n",
       "      <td>29</td>\n",
       "    </tr>\n",
       "    <tr>\n",
       "      <th>11</th>\n",
       "      <td>30</td>\n",
       "    </tr>\n",
       "    <tr>\n",
       "      <th>12</th>\n",
       "      <td>31</td>\n",
       "    </tr>\n",
       "    <tr>\n",
       "      <th>13</th>\n",
       "      <td>32</td>\n",
       "    </tr>\n",
       "    <tr>\n",
       "      <th>14</th>\n",
       "      <td>33</td>\n",
       "    </tr>\n",
       "    <tr>\n",
       "      <th>15</th>\n",
       "      <td>34</td>\n",
       "    </tr>\n",
       "  </tbody>\n",
       "</table>\n",
       "</div>"
      ],
      "text/plain": [
       "        Math\n",
       "RollNo      \n",
       "10        29\n",
       "11        30\n",
       "12        31\n",
       "13        32\n",
       "14        33\n",
       "15        34"
      ]
     },
     "execution_count": 17,
     "metadata": {},
     "output_type": "execute_result"
    }
   ],
   "source": [
    "df.loc[df['Physics']>50, ['Math']]"
   ]
  },
  {
   "cell_type": "code",
   "execution_count": 20,
   "id": "3a81d8cb-92fd-45cf-9807-abc3bf2ed9fe",
   "metadata": {},
   "outputs": [
    {
     "data": {
      "text/plain": [
       "Section               A\n",
       "Branch             Comp\n",
       "Physics              42\n",
       "Chemistry            68\n",
       "Math                 20\n",
       "Comp                 81\n",
       "DOB          01-01-2003\n",
       "Name: 1, dtype: object"
      ]
     },
     "execution_count": 20,
     "metadata": {},
     "output_type": "execute_result"
    }
   ],
   "source": [
    "df.iloc[0]"
   ]
  },
  {
   "cell_type": "code",
   "execution_count": 21,
   "id": "f47ba97f-d8b7-44f6-a74a-3681891c7645",
   "metadata": {},
   "outputs": [
    {
     "data": {
      "text/html": [
       "<div>\n",
       "<style scoped>\n",
       "    .dataframe tbody tr th:only-of-type {\n",
       "        vertical-align: middle;\n",
       "    }\n",
       "\n",
       "    .dataframe tbody tr th {\n",
       "        vertical-align: top;\n",
       "    }\n",
       "\n",
       "    .dataframe thead th {\n",
       "        text-align: right;\n",
       "    }\n",
       "</style>\n",
       "<table border=\"1\" class=\"dataframe\">\n",
       "  <thead>\n",
       "    <tr style=\"text-align: right;\">\n",
       "      <th></th>\n",
       "      <th>Section</th>\n",
       "      <th>Branch</th>\n",
       "      <th>Physics</th>\n",
       "      <th>Chemistry</th>\n",
       "      <th>Math</th>\n",
       "      <th>Comp</th>\n",
       "      <th>DOB</th>\n",
       "    </tr>\n",
       "    <tr>\n",
       "      <th>RollNo</th>\n",
       "      <th></th>\n",
       "      <th></th>\n",
       "      <th></th>\n",
       "      <th></th>\n",
       "      <th></th>\n",
       "      <th></th>\n",
       "      <th></th>\n",
       "    </tr>\n",
       "  </thead>\n",
       "  <tbody>\n",
       "    <tr>\n",
       "      <th>1</th>\n",
       "      <td>A</td>\n",
       "      <td>Comp</td>\n",
       "      <td>42</td>\n",
       "      <td>68</td>\n",
       "      <td>20</td>\n",
       "      <td>81</td>\n",
       "      <td>01-01-2003</td>\n",
       "    </tr>\n",
       "  </tbody>\n",
       "</table>\n",
       "</div>"
      ],
      "text/plain": [
       "       Section Branch  Physics  Chemistry  Math  Comp         DOB\n",
       "RollNo                                                           \n",
       "1            A   Comp       42         68    20    81  01-01-2003"
      ]
     },
     "execution_count": 21,
     "metadata": {},
     "output_type": "execute_result"
    }
   ],
   "source": [
    "df.iloc[[0]]"
   ]
  },
  {
   "cell_type": "code",
   "execution_count": 22,
   "id": "b31ca6a5-a5d9-427e-8535-b1c68c8c4097",
   "metadata": {},
   "outputs": [
    {
     "data": {
      "text/plain": [
       "RollNo\n",
       "1     A\n",
       "2     C\n",
       "3     B\n",
       "4     D\n",
       "5     A\n",
       "6     A\n",
       "7     C\n",
       "8     B\n",
       "9     D\n",
       "10    C\n",
       "11    D\n",
       "12    A\n",
       "13    B\n",
       "14    C\n",
       "15    D\n",
       "Name: Section, dtype: object"
      ]
     },
     "execution_count": 22,
     "metadata": {},
     "output_type": "execute_result"
    }
   ],
   "source": [
    "df.iloc[:,0]"
   ]
  },
  {
   "cell_type": "code",
   "execution_count": 23,
   "id": "9cad8f64-da9f-4e89-9625-87d5787b0a53",
   "metadata": {},
   "outputs": [
    {
     "data": {
      "text/plain": [
       "RollNo\n",
       "1      Comp\n",
       "2      Mech\n",
       "3        IT\n",
       "4      E&TC\n",
       "5      Chem\n",
       "6     Civil\n",
       "7     Civil\n",
       "8      Comp\n",
       "9      Mech\n",
       "10    Civil\n",
       "11       IT\n",
       "12      A&R\n",
       "13     Chem\n",
       "14     E&TC\n",
       "15      E&C\n",
       "Name: Branch, dtype: object"
      ]
     },
     "execution_count": 23,
     "metadata": {},
     "output_type": "execute_result"
    }
   ],
   "source": [
    "df.iloc[:,1]"
   ]
  },
  {
   "cell_type": "code",
   "execution_count": 27,
   "id": "905493a6-9336-4e41-ba0d-1a38d5bbd593",
   "metadata": {},
   "outputs": [
    {
     "data": {
      "text/html": [
       "<div>\n",
       "<style scoped>\n",
       "    .dataframe tbody tr th:only-of-type {\n",
       "        vertical-align: middle;\n",
       "    }\n",
       "\n",
       "    .dataframe tbody tr th {\n",
       "        vertical-align: top;\n",
       "    }\n",
       "\n",
       "    .dataframe thead th {\n",
       "        text-align: right;\n",
       "    }\n",
       "</style>\n",
       "<table border=\"1\" class=\"dataframe\">\n",
       "  <thead>\n",
       "    <tr style=\"text-align: right;\">\n",
       "      <th></th>\n",
       "      <th>Branch</th>\n",
       "      <th>Physics</th>\n",
       "      <th>Chemistry</th>\n",
       "    </tr>\n",
       "    <tr>\n",
       "      <th>RollNo</th>\n",
       "      <th></th>\n",
       "      <th></th>\n",
       "      <th></th>\n",
       "    </tr>\n",
       "  </thead>\n",
       "  <tbody>\n",
       "    <tr>\n",
       "      <th>1</th>\n",
       "      <td>Comp</td>\n",
       "      <td>42</td>\n",
       "      <td>68</td>\n",
       "    </tr>\n",
       "    <tr>\n",
       "      <th>2</th>\n",
       "      <td>Mech</td>\n",
       "      <td>43</td>\n",
       "      <td>69</td>\n",
       "    </tr>\n",
       "    <tr>\n",
       "      <th>3</th>\n",
       "      <td>IT</td>\n",
       "      <td>44</td>\n",
       "      <td>70</td>\n",
       "    </tr>\n",
       "    <tr>\n",
       "      <th>4</th>\n",
       "      <td>E&amp;TC</td>\n",
       "      <td>45</td>\n",
       "      <td>71</td>\n",
       "    </tr>\n",
       "    <tr>\n",
       "      <th>5</th>\n",
       "      <td>Chem</td>\n",
       "      <td>46</td>\n",
       "      <td>72</td>\n",
       "    </tr>\n",
       "  </tbody>\n",
       "</table>\n",
       "</div>"
      ],
      "text/plain": [
       "       Branch  Physics  Chemistry\n",
       "RollNo                           \n",
       "1        Comp       42         68\n",
       "2        Mech       43         69\n",
       "3          IT       44         70\n",
       "4        E&TC       45         71\n",
       "5        Chem       46         72"
      ]
     },
     "execution_count": 27,
     "metadata": {},
     "output_type": "execute_result"
    }
   ],
   "source": [
    "df.iloc[0:5, 1:4]"
   ]
  },
  {
   "cell_type": "code",
   "execution_count": null,
   "id": "642c69fa-8584-4ec2-8fe5-3b10752b6d0c",
   "metadata": {},
   "outputs": [],
   "source": []
  },
  {
   "cell_type": "code",
   "execution_count": null,
   "id": "1b1e86ee-c5ab-4f31-b735-d8e6e3b52c02",
   "metadata": {},
   "outputs": [],
   "source": []
  }
 ],
 "metadata": {
  "kernelspec": {
   "display_name": "Python 3 (ipykernel)",
   "language": "python",
   "name": "python3"
  },
  "language_info": {
   "codemirror_mode": {
    "name": "ipython",
    "version": 3
   },
   "file_extension": ".py",
   "mimetype": "text/x-python",
   "name": "python",
   "nbconvert_exporter": "python",
   "pygments_lexer": "ipython3",
   "version": "3.12.4"
  }
 },
 "nbformat": 4,
 "nbformat_minor": 5
}
